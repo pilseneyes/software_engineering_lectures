{
 "cells": [
  {
   "cell_type": "markdown",
   "metadata": {
    "slideshow": {
     "slide_type": "slide"
    }
   },
   "source": [
    "# Software engineering for researcher\n",
    "\n",
    "\n"
   ]
  },
  {
   "cell_type": "markdown",
   "metadata": {
    "slideshow": {
     "slide_type": "fragment"
    }
   },
   "source": [
    "https://github.com/pilseneyes/software_engineering_lectures"
   ]
  },
  {
   "cell_type": "markdown",
   "metadata": {
    "slideshow": {
     "slide_type": "fragment"
    }
   },
   "source": [
    "  * Python package\n",
    "  * Distribution system PyPi\n",
    "  * Git\n",
    "  * Bumpversion\n",
    "  * Anaconda packages\n",
    "  * Testing with nosetests\n",
    "  * Continuous Ingegration on Travis-CI\n",
    "  * Coverage with Coveralls"
   ]
  },
  {
   "cell_type": "markdown",
   "metadata": {
    "slideshow": {
     "slide_type": "fragment"
    }
   },
   "source": [
    "* platform independent"
   ]
  },
  {
   "cell_type": "markdown",
   "metadata": {
    "slideshow": {
     "slide_type": "slide"
    }
   },
   "source": [
    "# Local python package\n",
    "\n",
    "\n",
    "Check: https://python-packaging.readthedocs.io/en/latest/minimal.html\n"
   ]
  },
  {
   "cell_type": "markdown",
   "metadata": {
    "slideshow": {
     "slide_type": "fragment"
    }
   },
   "source": [
    "## Picking A Name\n",
    "\n",
    "* All lowercase\n",
    "* Unique on pypi, even if you don’t want to make your package publicly available (you might want to specify it privately as a dependency later)\n",
    "* Underscore-separated or no word separators at all (don’t use hyphens)"
   ]
  },
  {
   "cell_type": "markdown",
   "metadata": {
    "slideshow": {
     "slide_type": "subslide"
    }
   },
   "source": [
    "## Dry example"
   ]
  },
  {
   "cell_type": "markdown",
   "metadata": {
    "slideshow": {
     "slide_type": "fragment"
    }
   },
   "source": [
    "file `__init__.py`\n",
    "\n",
    "```python\n",
    "def joke():\n",
    "    return (u'Wenn ist das Nunst\\u00fcck git und Slotermeyer? Ja! ... '\n",
    "            u'Beiherhund das Oder die Flipperwaldt gersput.')\n",
    "```"
   ]
  },
  {
   "cell_type": "markdown",
   "metadata": {
    "slideshow": {
     "slide_type": "fragment"
    }
   },
   "source": [
    "```\n",
    "funniest/\n",
    "    funniest/\n",
    "        __init__.py\n",
    "    setup.py\n",
    "```"
   ]
  },
  {
   "cell_type": "markdown",
   "metadata": {
    "slideshow": {
     "slide_type": "subslide"
    }
   },
   "source": [
    "File `setup.py`: \n",
    "\n",
    "```python\n",
    "from setuptools import setup\n",
    "\n",
    "setup(name='funniest',\n",
    "      version='0.1',\n",
    "      description='The funniest joke in the world',\n",
    "      url='http://github.com/storborg/funniest',\n",
    "      author='Flying Circus',\n",
    "      author_email='flyingcircus@example.com',\n",
    "      license='MIT',\n",
    "      packages=['funniest'],\n",
    "      zip_safe=False)\n",
    "```"
   ]
  },
  {
   "cell_type": "markdown",
   "metadata": {
    "slideshow": {
     "slide_type": "fragment"
    }
   },
   "source": [
    "Install with python:\n",
    "\n",
    "```bash\n",
    "python setup.py .\n",
    "\n",
    "```"
   ]
  },
  {
   "cell_type": "markdown",
   "metadata": {
    "slideshow": {
     "slide_type": "fragment"
    }
   },
   "source": [
    "...or install with `pip`:\n",
    "\n",
    "```bash\n",
    "pip install .\n",
    "```"
   ]
  },
  {
   "cell_type": "markdown",
   "metadata": {
    "slideshow": {
     "slide_type": "subslide"
    }
   },
   "source": [
    "## Example 2"
   ]
  },
  {
   "cell_type": "markdown",
   "metadata": {
    "slideshow": {
     "slide_type": "fragment"
    }
   },
   "source": [
    "Install discon:\n",
    "    \n",
    "```bash\n",
    "pip install discon\n",
    "```"
   ]
  },
  {
   "cell_type": "markdown",
   "metadata": {
    "slideshow": {
     "slide_type": "notes"
    }
   },
   "source": [
    "```bash\n",
    "conda create -n swl python=3.6 pip gitpython \n",
    "```"
   ]
  },
  {
   "cell_type": "markdown",
   "metadata": {
    "slideshow": {
     "slide_type": "fragment"
    }
   },
   "source": [
    "```bash\n",
    "cd best_project\n",
    "discon init project_name\n",
    "```"
   ]
  },
  {
   "cell_type": "markdown",
   "metadata": {
    "slideshow": {
     "slide_type": "fragment"
    }
   },
   "source": [
    "```bash\n",
    "python setup.py .\n",
    "```"
   ]
  },
  {
   "cell_type": "markdown",
   "metadata": {
    "slideshow": {
     "slide_type": "slide"
    }
   },
   "source": [
    "# PyPi"
   ]
  },
  {
   "cell_type": "markdown",
   "metadata": {
    "slideshow": {
     "slide_type": "fragment"
    }
   },
   "source": [
    "Account on pypi:\n",
    "https://pypi.org/\n",
    "\n",
    "\n",
    "Test account (periodically pruned)\n",
    "\n",
    "https://packaging.python.org/guides/using-testpypi/"
   ]
  },
  {
   "cell_type": "markdown",
   "metadata": {
    "slideshow": {
     "slide_type": "subslide"
    }
   },
   "source": [
    "`~/.pypirc` file:\n",
    "```config\n",
    "[distutils]\n",
    "index-servers =\n",
    "    pypi\n",
    "    testpypi\n",
    "\n",
    "[pypi]\n",
    "repository:https://upload.pypi.org/legacy/\n",
    "username:mjirik\n",
    "password:87fasd6sdfas000yourpassword0000asdfea654\n",
    "\n",
    "[testpypi]\n",
    "repository:https://test.pypi.org/legacy/\n",
    "username:mjirik\n",
    "password:87fasd6sdfas000yourpassword0000asdfea654\n",
    "```"
   ]
  },
  {
   "cell_type": "markdown",
   "metadata": {
    "slideshow": {
     "slide_type": "fragment"
    }
   },
   "source": [
    "    python setup.py sdist upload -r pypi"
   ]
  },
  {
   "cell_type": "markdown",
   "metadata": {
    "slideshow": {
     "slide_type": "slide"
    }
   },
   "source": [
    "# Bumpversion"
   ]
  },
  {
   "cell_type": "markdown",
   "metadata": {
    "slideshow": {
     "slide_type": "fragment"
    }
   },
   "source": [
    "https://github.com/peritus/bumpversion"
   ]
  },
  {
   "cell_type": "markdown",
   "metadata": {
    "slideshow": {
     "slide_type": "fragment"
    }
   },
   "source": [
    "Install with conda or pip:\n",
    "\n",
    "```bash\n",
    "pip install bumpversion\n",
    "```"
   ]
  },
  {
   "cell_type": "markdown",
   "metadata": {
    "slideshow": {
     "slide_type": "fragment"
    }
   },
   "source": [
    "File `setup.cfg` in project directory\n",
    "```\n",
    "[bumpversion]\n",
    "current_version = 1.1.37\n",
    "files = setup.py meta.yaml\n",
    "commit = True\n",
    "tag = True\n",
    "tag_name = {new_version}\n",
    "```"
   ]
  },
  {
   "cell_type": "markdown",
   "metadata": {
    "slideshow": {
     "slide_type": "fragment"
    }
   },
   "source": [
    "`tag`, `commit` and `tag_name` is git thing "
   ]
  },
  {
   "cell_type": "markdown",
   "metadata": {
    "slideshow": {
     "slide_type": "subslide"
    }
   },
   "source": [
    "Usage:\n",
    "```bash\n",
    "bumpversion [options] part [file]\n",
    "```\n",
    "\n",
    "`part` is `patch` or `minor` or `major`. E.g.\n",
    "\n",
    "```\n",
    "bumpversion patch\n",
    "```"
   ]
  },
  {
   "cell_type": "markdown",
   "metadata": {
    "slideshow": {
     "slide_type": "slide"
    }
   },
   "source": [
    "# Git"
   ]
  },
  {
   "cell_type": "markdown",
   "metadata": {
    "slideshow": {
     "slide_type": "fragment"
    }
   },
   "source": [
    "http://nvie.com/posts/a-successful-git-branching-model/\n",
    "\n",
    "https://github.com/Rafase282/My-FreeCodeCamp-Code/wiki/Lesson-Save-your-Code-Revisions-Forever-with-Git"
   ]
  },
  {
   "cell_type": "markdown",
   "metadata": {
    "slideshow": {
     "slide_type": "subslide"
    }
   },
   "source": [
    "<img src=\"http://nvie.com/img/centr-decentr@2x.png\" width=\"600\">"
   ]
  },
  {
   "cell_type": "markdown",
   "metadata": {
    "slideshow": {
     "slide_type": "subslide"
    }
   },
   "source": [
    "```\n",
    "git clone git@github.com:pilseneyes/software_engineering_lectures.git\n",
    "\n",
    "git commit \n",
    "git pull\n",
    "git push\n",
    "```"
   ]
  },
  {
   "cell_type": "markdown",
   "metadata": {
    "slideshow": {
     "slide_type": "subslide"
    }
   },
   "source": [
    "<img src=\"https://camo.githubusercontent.com/d4de2fdb747fec0d3dc67b1640f37c12f3786f5b/687474703a2f2f6a6c6f72642e75732f6769742d69742f6173736574732f696d67732f72656d6f7465732e706e67\" width=\"600\">"
   ]
  },
  {
   "cell_type": "markdown",
   "metadata": {
    "slideshow": {
     "slide_type": "slide"
    }
   },
   "source": [
    "## Branches"
   ]
  },
  {
   "cell_type": "markdown",
   "metadata": {
    "slideshow": {
     "slide_type": "subslide"
    }
   },
   "source": [
    "### Main branches\n",
    "<img src=\"http://nvie.com/img/main-branches@2x.png\" width=\"300\">"
   ]
  },
  {
   "cell_type": "markdown",
   "metadata": {
    "slideshow": {
     "slide_type": "subslide"
    }
   },
   "source": [
    "### Feature branches\n",
    "\n",
    "<img src=\"http://nvie.com/img/fb@2x.png\" width=\"150\">"
   ]
  },
  {
   "cell_type": "markdown",
   "metadata": {
    "slideshow": {
     "slide_type": "slide"
    }
   },
   "source": [
    "<img src=\"http://nvie.com/img/git-model@2x.png\" width=\"400\">"
   ]
  }
 ],
 "metadata": {
  "celltoolbar": "Slideshow",
  "kernelspec": {
   "display_name": "Python 3",
   "language": "python",
   "name": "python3"
  },
  "language_info": {
   "codemirror_mode": {
    "name": "ipython",
    "version": 3
   },
   "file_extension": ".py",
   "mimetype": "text/x-python",
   "name": "python",
   "nbconvert_exporter": "python",
   "pygments_lexer": "ipython3",
   "version": "3.6.4"
  }
 },
 "nbformat": 4,
 "nbformat_minor": 2
}
